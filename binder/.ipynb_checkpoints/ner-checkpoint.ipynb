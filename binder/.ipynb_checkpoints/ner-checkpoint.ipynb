{
 "cells": [
  {
   "cell_type": "markdown",
   "id": "751b7b5e",
   "metadata": {},
   "source": [
    "This is a test-notebook."
   ]
  },
  {
   "cell_type": "code",
   "execution_count": 1,
   "id": "f48ecefd",
   "metadata": {},
   "outputs": [
    {
     "name": "stdout",
     "output_type": "stream",
     "text": [
      "This works!\n"
     ]
    }
   ],
   "source": [
    "print(\"This works!\")"
   ]
  },
  {
   "cell_type": "code",
   "execution_count": null,
   "id": "11506658",
   "metadata": {},
   "outputs": [],
   "source": []
  }
 ],
 "metadata": {
  "kernelspec": {
   "display_name": "Python 3",
   "language": "python",
   "name": "python3"
  },
  "language_info": {
   "codemirror_mode": {
    "name": "ipython",
    "version": 3
   },
   "file_extension": ".py",
   "mimetype": "text/x-python",
   "name": "python",
   "nbconvert_exporter": "python",
   "pygments_lexer": "ipython3",
   "version": "3.8.8"
  }
 },
 "nbformat": 4,
 "nbformat_minor": 5
}
