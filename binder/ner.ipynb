{
 "cells": [
  {
   "cell_type": "markdown",
   "id": "751b7b5e",
   "metadata": {},
   "source": [
    "# NER mit spacy"
   ]
  },
  {
   "cell_type": "markdown",
   "id": "d16910bb",
   "metadata": {},
   "source": [
    "Eine allererste Zeile code:"
   ]
  },
  {
   "cell_type": "code",
   "execution_count": null,
   "id": "f48ecefd",
   "metadata": {},
   "outputs": [],
   "source": [
    "print(\"This works!\")"
   ]
  },
  {
   "cell_type": "markdown",
   "id": "71e61bd9",
   "metadata": {},
   "source": [
    "spacy importieren"
   ]
  },
  {
   "cell_type": "code",
   "execution_count": null,
   "id": "d718f012",
   "metadata": {},
   "outputs": [],
   "source": [
    "import spacy"
   ]
  },
  {
   "cell_type": "markdown",
   "id": "dc40c628",
   "metadata": {},
   "source": [
    "Modell importieren (siehe in diesem Fall: https://spacy.io/models/en)."
   ]
  },
  {
   "cell_type": "code",
   "execution_count": null,
   "id": "379514fb",
   "metadata": {},
   "outputs": [],
   "source": [
    "spacy.load(\"en_core_web_sm\")"
   ]
  },
  {
   "cell_type": "markdown",
   "id": "b5e719d0",
   "metadata": {},
   "source": [
    "Einen Text definieren"
   ]
  },
  {
   "cell_type": "code",
   "execution_count": null,
   "id": "e24fee2a",
   "metadata": {},
   "outputs": [],
   "source": [
    "text = \"Berlin ist eine Stadt in Deutschland und die Staatsbibliothek zu Berlin ist die Nationalbibliothek eines Staates den es nicht mehr gibt (Preußen)\"\n"
   ]
  },
  {
   "cell_type": "markdown",
   "id": "8bf9c119",
   "metadata": {},
   "source": [
    "Spacy macht aus dem Text ein sog. Doc Objekt"
   ]
  },
  {
   "cell_type": "code",
   "execution_count": null,
   "id": "f6c5cc98",
   "metadata": {},
   "outputs": [],
   "source": [
    "doc = nlp(text)"
   ]
  },
  {
   "cell_type": "markdown",
   "id": "2d001ab7",
   "metadata": {},
   "source": [
    "NER auf dem Doc Objekt:"
   ]
  },
  {
   "cell_type": "code",
   "execution_count": null,
   "id": "b678721a",
   "metadata": {},
   "outputs": [],
   "source": [
    "for ent in doc.ents:\n",
    "    print (ent.text, ent.label_)"
   ]
  }
 ],
 "metadata": {
  "kernelspec": {
   "display_name": "Python 3",
   "language": "python",
   "name": "python3"
  },
  "language_info": {
   "codemirror_mode": {
    "name": "ipython",
    "version": 3
   },
   "file_extension": ".py",
   "mimetype": "text/x-python",
   "name": "python",
   "nbconvert_exporter": "python",
   "pygments_lexer": "ipython3",
   "version": "3.8.8"
  }
 },
 "nbformat": 4,
 "nbformat_minor": 5
}
