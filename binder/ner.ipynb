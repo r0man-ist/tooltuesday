{
 "cells": [
  {
   "cell_type": "markdown",
   "id": "751b7b5e",
   "metadata": {},
   "source": [
    "# NER mit spacy"
   ]
  },
  {
   "cell_type": "markdown",
   "id": "d16910bb",
   "metadata": {},
   "source": [
    "Eine allererste Zeile code:"
   ]
  },
  {
   "cell_type": "code",
   "execution_count": null,
   "id": "f48ecefd",
   "metadata": {},
   "outputs": [],
   "source": [
    "print(\"Hello World!\")"
   ]
  },
  {
   "cell_type": "markdown",
   "id": "71e61bd9",
   "metadata": {},
   "source": [
    "spacy importieren"
   ]
  },
  {
   "cell_type": "code",
   "execution_count": null,
   "id": "d718f012",
   "metadata": {},
   "outputs": [],
   "source": [
    "import spacy"
   ]
  },
  {
   "cell_type": "markdown",
   "id": "dc40c628",
   "metadata": {},
   "source": [
    "Modell importieren (siehe in diesem Fall: https://spacy.io/models/en)."
   ]
  },
  {
   "cell_type": "code",
   "execution_count": null,
   "id": "379514fb",
   "metadata": {},
   "outputs": [],
   "source": [
    "nlp=spacy.load(\"en_core_web_sm\")"
   ]
  },
  {
   "cell_type": "markdown",
   "id": "b5e719d0",
   "metadata": {},
   "source": [
    "Einen Text definieren"
   ]
  },
  {
   "cell_type": "code",
   "execution_count": null,
   "id": "e24fee2a",
   "metadata": {},
   "outputs": [],
   "source": [
    "text = \"Berlin is a city in Germany and the State Library Berlin is the national library of a state no longer in existence (Prussia)\"\n"
   ]
  },
  {
   "cell_type": "markdown",
   "id": "8bf9c119",
   "metadata": {},
   "source": [
    "Spacy macht aus dem Text ein sog. Doc Objekt"
   ]
  },
  {
   "cell_type": "code",
   "execution_count": null,
   "id": "f6c5cc98",
   "metadata": {},
   "outputs": [],
   "source": [
    "doc = nlp(text)"
   ]
  },
  {
   "cell_type": "markdown",
   "id": "2d001ab7",
   "metadata": {},
   "source": [
    "NER auf dem Doc Objekt:"
   ]
  },
  {
   "cell_type": "code",
   "execution_count": null,
   "id": "b678721a",
   "metadata": {},
   "outputs": [],
   "source": [
    "for ent in doc.ents:\n",
    "    print (ent.text, ent.label_)"
   ]
  },
  {
   "cell_type": "markdown",
   "metadata": {},
   "source": [
    "Im Hintergrund läuft dabei eine Spacy-Pipeline; NER ist nur ein (kleiner) Teil dieser \"pipe\"."
   ]
  },
  {
   "cell_type": "code",
   "execution_count": null,
   "metadata": {},
   "outputs": [],
   "source": [
    "nlp.analyze_pipes()"
   ]
  },
  {
   "cell_type": "markdown",
   "metadata": {},
   "source": [
    "Noch einmal auf Deutsch:"
   ]
  },
  {
   "cell_type": "code",
   "execution_count": null,
   "metadata": {},
   "outputs": [],
   "source": [
    "text = \"Berlin ist eine Stadt in Deutschland. Die Staatsbibliothek zu Berlin ist die Nationalbibliothek eines Staates, den es nicht mehr gibt (Preußen)\""
   ]
  },
  {
   "cell_type": "code",
   "execution_count": null,
   "metadata": {},
   "outputs": [],
   "source": [
    "doc = nlp(text)"
   ]
  },
  {
   "cell_type": "code",
   "execution_count": null,
   "metadata": {},
   "outputs": [],
   "source": [
    "for ent in doc.ents:\n",
    "    print (ent.text, ent.label_)"
   ]
  },
  {
   "cell_type": "code",
   "execution_count": null,
   "metadata": {},
   "outputs": [],
   "source": [
    "nlp = spacy.load(\"de_core_news_sm\")"
   ]
  },
  {
   "cell_type": "code",
   "execution_count": null,
   "metadata": {},
   "outputs": [],
   "source": [
    "doc = nlp(text)"
   ]
  },
  {
   "cell_type": "code",
   "execution_count": null,
   "metadata": {},
   "outputs": [],
   "source": [
    "for ent in doc.ents:\n",
    "    print (ent.text, ent.label_)"
   ]
  },
  {
   "cell_type": "code",
   "execution_count": null,
   "metadata": {},
   "outputs": [],
   "source": [
    "#Create the EntityRuler\n",
    "ruler = nlp.add_pipe(\"entity_ruler\", after=\"ner\")\n",
    "\n",
    "#List of Entities and Patterns\n",
    "patterns = [\n",
    "                {\"label\": \"GPE\", \"pattern\": \"Treblinka\"}\n",
    "            ]\n",
    "\n",
    "ruler.add_patterns(patterns)\n",
    "\n",
    "\n",
    "doc = nlp(text)\n",
    "\n",
    "#extract entities\n",
    "for ent in doc.ents:\n",
    "    print (ent.text, ent.label_)"
   ]
  }
 ],
 "metadata": {
  "kernelspec": {
   "display_name": "Python 3",
   "language": "python",
   "name": "python3"
  },
  "language_info": {
   "codemirror_mode": {
    "name": "ipython",
    "version": 3
   },
   "file_extension": ".py",
   "mimetype": "text/x-python",
   "name": "python",
   "nbconvert_exporter": "python",
   "pygments_lexer": "ipython3",
   "version": "3.8.8"
  }
 },
 "nbformat": 4,
 "nbformat_minor": 5
}
