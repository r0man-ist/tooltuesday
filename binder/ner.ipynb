{
 "cells": [
  {
   "cell_type": "markdown",
   "id": "751b7b5e",
   "metadata": {},
   "source": [
    "# NER mit spacy"
   ]
  },
  {
   "cell_type": "markdown",
   "id": "d16910bb",
   "metadata": {},
   "source": [
    "Eine allererste Zeile code:"
   ]
  },
  {
   "cell_type": "code",
   "execution_count": null,
   "id": "f48ecefd",
   "metadata": {},
   "outputs": [],
   "source": [
    "print(\"Hello World!\")"
   ]
  },
  {
   "cell_type": "markdown",
   "id": "71e61bd9",
   "metadata": {},
   "source": [
    "### spacy importieren"
   ]
  },
  {
   "cell_type": "code",
   "execution_count": null,
   "id": "d718f012",
   "metadata": {},
   "outputs": [],
   "source": [
    "import spacy"
   ]
  },
  {
   "cell_type": "markdown",
   "id": "dc40c628",
   "metadata": {},
   "source": [
    "Modell importieren (siehe in diesem Fall: https://spacy.io/models/en)."
   ]
  },
  {
   "cell_type": "code",
   "execution_count": null,
   "id": "379514fb",
   "metadata": {},
   "outputs": [],
   "source": [
    "nlp=spacy.load(\"en_core_web_sm\")"
   ]
  },
  {
   "cell_type": "markdown",
   "id": "b5e719d0",
   "metadata": {},
   "source": [
    "Einen Text definieren"
   ]
  },
  {
   "cell_type": "code",
   "execution_count": null,
   "id": "e24fee2a",
   "metadata": {},
   "outputs": [],
   "source": [
    "text = \"Berlin is a city in Germany and the State-Library Berlin is the national library of a state no longer in existence (Prussia)\"\n"
   ]
  },
  {
   "cell_type": "markdown",
   "id": "8bf9c119",
   "metadata": {},
   "source": [
    "Spacy macht aus dem Text ein sog. Doc Objekt"
   ]
  },
  {
   "cell_type": "code",
   "execution_count": null,
   "id": "f6c5cc98",
   "metadata": {},
   "outputs": [],
   "source": [
    "doc = nlp(text)"
   ]
  },
  {
   "cell_type": "markdown",
   "id": "2d001ab7",
   "metadata": {},
   "source": [
    "NER auf dem Doc Objekt:"
   ]
  },
  {
   "cell_type": "code",
   "execution_count": null,
   "id": "b678721a",
   "metadata": {},
   "outputs": [],
   "source": [
    "for ent in doc.ents:\n",
    "    print (ent.text, ent.label_)"
   ]
  },
  {
   "cell_type": "markdown",
   "id": "98a678ba",
   "metadata": {},
   "source": [
    "Im Hintergrund läuft dabei eine Spacy-Pipeline; NER ist nur ein (kleiner) Teil dieser \"pipe\"."
   ]
  },
  {
   "cell_type": "code",
   "execution_count": null,
   "id": "479e8350",
   "metadata": {},
   "outputs": [],
   "source": [
    "nlp.analyze_pipes()"
   ]
  },
  {
   "cell_type": "markdown",
   "id": "01904ad8",
   "metadata": {},
   "source": [
    "Noch einmal auf Deutsch:"
   ]
  },
  {
   "cell_type": "code",
   "execution_count": null,
   "id": "da1358b5",
   "metadata": {},
   "outputs": [],
   "source": [
    "text = \"Berlin ist eine Stadt in Deutschland. Die Staatsbibliothek zu Berlin ist die Nationalbibliothek eines Staates, den es nicht mehr gibt (Preußen)\""
   ]
  },
  {
   "cell_type": "code",
   "execution_count": null,
   "id": "d0689282",
   "metadata": {},
   "outputs": [],
   "source": [
    "doc = nlp(text)"
   ]
  },
  {
   "cell_type": "code",
   "execution_count": null,
   "id": "e4f82885",
   "metadata": {},
   "outputs": [],
   "source": [
    "for ent in doc.ents:\n",
    "    print (ent.text, ent.label_)"
   ]
  },
  {
   "cell_type": "code",
   "execution_count": null,
   "id": "d430c700",
   "metadata": {},
   "outputs": [],
   "source": [
    "nlp = spacy.load(\"de_core_news_sm\")"
   ]
  },
  {
   "cell_type": "code",
   "execution_count": null,
   "id": "62ffebd4",
   "metadata": {},
   "outputs": [],
   "source": [
    "doc = nlp(text)"
   ]
  },
  {
   "cell_type": "code",
   "execution_count": null,
   "id": "1e944e0f",
   "metadata": {},
   "outputs": [],
   "source": [
    "for ent in doc.ents:\n",
    "    print (ent.text, ent.label_)"
   ]
  },
  {
   "cell_type": "code",
   "execution_count": null,
   "id": "f6ea5b24",
   "metadata": {},
   "outputs": [],
   "source": [
    "#Eine regelbasierte Entity hinzufügen\n",
    "ruler = nlp.add_pipe(\"entity_ruler\", before=\"ner\")\n",
    "\n",
    "#Liste von Entities und Patterns\n",
    "patterns = [\n",
    "                {\"label\": \"CITY\", \"pattern\": \"Berlin\"},{\"label\": \"ORG\", \"pattern\": \"Staatsbibliothek zu Berlin\"}\n",
    "            ]\n",
    "\n",
    "ruler.add_patterns(patterns)"
   ]
  },
  {
   "cell_type": "code",
   "execution_count": null,
   "id": "cbae8561",
   "metadata": {},
   "outputs": [],
   "source": [
    "doc = nlp(text)\n",
    "\n",
    "# entities\n",
    "for ent in doc.ents:\n",
    "    print (ent.text, ent.label_)"
   ]
  },
  {
   "cell_type": "markdown",
   "id": "a5b1fc98",
   "metadata": {},
   "source": [
    "### Visualisieren"
   ]
  },
  {
   "cell_type": "code",
   "execution_count": null,
   "id": "c06021df",
   "metadata": {},
   "outputs": [],
   "source": [
    "from spacy import displacy"
   ]
  },
  {
   "cell_type": "code",
   "execution_count": null,
   "id": "3bbf7464",
   "metadata": {},
   "outputs": [],
   "source": [
    "displacy.render(doc, style='ent', jupyter='true')"
   ]
  },
  {
   "cell_type": "markdown",
   "id": "de2a2c5d",
   "metadata": {},
   "source": [
    "## Ein Modell mit spaCy trainieren"
   ]
  },
  {
   "cell_type": "markdown",
   "metadata": {},
   "source": [
    "(Das Folgende basiert auf: W.J.B. Mattingly, Introduction to Named Entity Recognition, 2021 (2nd ed.).  https://ner.pythonhumanities.com/intro.html)"
   ]
  },
  {
   "cell_type": "markdown",
   "id": "723a54f3",
   "metadata": {},
   "source": [
    "Trainingsdaten für spaCy NER müssen im folgenden Format stehen\n",
    "\n",
    "TRAIN_DATA = [ (TEXT AS A STRING, {“entities”: [(START, END, LABEL)]}) ]\n",
    "\n",
    "ACHTUNG: Startindizes beginnen mit \"0\", nicht mit \"1\""
   ]
  },
  {
   "cell_type": "code",
   "execution_count": null,
   "id": "df5006f3",
   "metadata": {},
   "outputs": [],
   "source": [
    "for ent in doc.ents:\n",
    "    print (ent.text, ent.start_char, ent.end_char, ent.label_)"
   ]
  },
  {
   "cell_type": "code",
   "execution_count": null,
   "id": "753e63b4",
   "metadata": {},
   "outputs": [],
   "source": [
    "nlp = spacy.load(\"de_core_news_sm\")\n",
    "text = \"Berlin ist eine Stadt in Deutschland. Die Staatsbibliothek zu Berlin ist die Nationalbibliothek eines Staates, den es nicht mehr gibt (Preußen)\"\n",
    "corpus = []\n",
    "\n",
    "doc = nlp(text)\n",
    "for sent in doc.sents:\n",
    "    corpus.append(sent.text)\n",
    "\n",
    "nlp = spacy.blank(\"de\")\n",
    "\n",
    "ruler = nlp.add_pipe(\"entity_ruler\")\n",
    "\n",
    "patterns = [\n",
    "                {\"label\": \"CITY\", \"pattern\": \"Berlin\"},\n",
    "                {\"label\": \"LOC\", \"pattern\": \"Deutschland\"},\n",
    "                {\"label\": \"ORG\", \"pattern\": \"Staatsbibliothek zu Berlin\"},\n",
    "                {\"label\": \"LOC\", \"pattern\": \"Preußen\"},\n",
    "            ]\n",
    "\n",
    "ruler.add_patterns(patterns)\n",
    "\n",
    "TRAIN_DATA = []\n",
    "for sentence in corpus:\n",
    "    doc = nlp(sentence)\n",
    "    entities = []\n",
    "\n",
    "    for ent in doc.ents:\n",
    "        entities.append([ent.start_char, ent.end_char, ent.label_])\n",
    "    TRAIN_DATA.append([sentence, {\"entities\": entities}])\n",
    "\n",
    "print (TRAIN_DATA)"
   ]
  },
  {
   "cell_type": "code",
   "execution_count": null,
   "metadata": {},
   "outputs": [],
   "source": [
    "import srsly\n",
    "import typer\n",
    "import warnings\n",
    "from pathlib import Path\n",
    "\n",
    "import spacy\n",
    "from spacy.tokens import DocBin\n",
    "\n",
    "def convert(lang: str, TRAIN_DATA, output_path: Path):\n",
    "    nlp = spacy.blank(lang)\n",
    "    db = DocBin()\n",
    "    for text, annot in TRAIN_DATA:\n",
    "        doc = nlp.make_doc(text)\n",
    "        ents = []\n",
    "        for start, end, label in annot[\"entities\"]:\n",
    "            span = doc.char_span(start, end, label=label)\n",
    "            if span is None:\n",
    "                msg = f\"Skipping entity [{start}, {end}, {label}] in the following text because the character span '{doc.text[start:end]}' does not align with token boundaries:\\n\\n{repr(text)}\\n\"\n",
    "                warnings.warn(msg)\n",
    "            else:\n",
    "                ents.append(span)\n",
    "        doc.ents = ents\n",
    "        db.add(doc)\n",
    "    db.to_disk(output_path)"
   ]
  },
  {
   "cell_type": "code",
   "execution_count": null,
   "metadata": {},
   "outputs": [],
   "source": [
    "convert(\"de\", TRAIN_DATA, \"data/train.spacy\")\n",
    "convert(\"de\", TRAIN_DATA, \"data/valid.spacy\")"
   ]
  },
  {
   "cell_type": "markdown",
   "metadata": {},
   "source": [
    "Konfigurationsdatei mit SpaCy erstellen: https://spacy.io/usage/training\n",
    "Und die obigen Pfase für Trainings- und Validierungsset nachtragen.\n",
    "\n",
    "Unser Beispiel ist BAD PRACTICE: Das Trainingsset ist natürlich viel zu klein und ist darüber hinaus identisch mit dem Validierungsset!"
   ]
  },
  {
   "cell_type": "code",
   "execution_count": null,
   "metadata": {},
   "outputs": [],
   "source": [
    "!python -m spacy init fill-config data/base_config.cfg data/config.cfg"
   ]
  },
  {
   "cell_type": "code",
   "execution_count": null,
   "id": "66610bc1",
   "metadata": {},
   "outputs": [],
   "source": [
    "!python -m spacy train data/config.cfg --output ./models/output"
   ]
  },
  {
   "cell_type": "code",
   "execution_count": null,
   "id": "9bd61b28",
   "metadata": {},
   "outputs": [],
   "source": [
    "trained_nlp = spacy.load(\"models/output/model-best\")\n",
    "text = \"Berlin ist die Hauptstadt von Deutschland und die Staatsbibliothek von Berlin ist eine große wissenschaftliche Bibliothek.\"\n",
    "doc = trained_nlp(text)\n",
    "\n",
    "for ent in doc.ents:\n",
    "    print (ent.text, ent.label_)"
   ]
  }
 ],
 "metadata": {
  "kernelspec": {
   "display_name": "Python 3",
   "language": "python",
   "name": "python3"
  },
  "language_info": {
   "codemirror_mode": {
    "name": "ipython",
    "version": 3
   },
   "file_extension": ".py",
   "mimetype": "text/x-python",
   "name": "python",
   "nbconvert_exporter": "python",
   "pygments_lexer": "ipython3",
   "version": "3.8.8"
  }
 },
 "nbformat": 4,
 "nbformat_minor": 5
}
