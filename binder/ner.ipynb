{
 "cells": [
  {
   "cell_type": "markdown",
   "id": "751b7b5e",
   "metadata": {},
   "source": [
    "# NER mit spacy"
   ]
  },
  {
   "cell_type": "markdown",
   "id": "d16910bb",
   "metadata": {},
   "source": [
    "Eine allererste Zeile code:"
   ]
  },
  {
   "cell_type": "code",
   "execution_count": 1,
   "id": "f48ecefd",
   "metadata": {},
   "outputs": [
    {
     "name": "stdout",
     "output_type": "stream",
     "text": [
      "Hello World!\n"
     ]
    }
   ],
   "source": [
    "print(\"Hello World!\")"
   ]
  },
  {
   "cell_type": "markdown",
   "id": "71e61bd9",
   "metadata": {},
   "source": [
    "### spacy importieren"
   ]
  },
  {
   "cell_type": "code",
   "execution_count": 6,
   "id": "d718f012",
   "metadata": {},
   "outputs": [
    {
     "ename": "ModuleNotFoundError",
     "evalue": "No module named 'spacy'",
     "output_type": "error",
     "traceback": [
      "\u001b[1;31m---------------------------------------------------------------------------\u001b[0m",
      "\u001b[1;31mModuleNotFoundError\u001b[0m                       Traceback (most recent call last)",
      "\u001b[1;32m<ipython-input-6-76a01d9c502b>\u001b[0m in \u001b[0;36m<module>\u001b[1;34m\u001b[0m\n\u001b[1;32m----> 1\u001b[1;33m \u001b[1;32mimport\u001b[0m \u001b[0mspacy\u001b[0m\u001b[1;33m\u001b[0m\u001b[1;33m\u001b[0m\u001b[0m\n\u001b[0m",
      "\u001b[1;31mModuleNotFoundError\u001b[0m: No module named 'spacy'"
     ]
    }
   ],
   "source": [
    "import spacy"
   ]
  },
  {
   "cell_type": "markdown",
   "id": "dc40c628",
   "metadata": {},
   "source": [
    "Modell importieren (siehe in diesem Fall: https://spacy.io/models/en)."
   ]
  },
  {
   "cell_type": "code",
   "execution_count": null,
   "id": "379514fb",
   "metadata": {},
   "outputs": [],
   "source": [
    "nlp=spacy.load(\"en_core_web_sm\")"
   ]
  },
  {
   "cell_type": "markdown",
   "id": "b5e719d0",
   "metadata": {},
   "source": [
    "Einen Text definieren"
   ]
  },
  {
   "cell_type": "code",
   "execution_count": 4,
   "id": "e24fee2a",
   "metadata": {},
   "outputs": [],
   "source": [
    "text = \"Berlin is a city in Germany and the State-Library Berlin is the national library of a state no longer in existence (Prussia)\"\n"
   ]
  },
  {
   "cell_type": "markdown",
   "id": "8bf9c119",
   "metadata": {},
   "source": [
    "Spacy macht aus dem Text ein sog. Doc Objekt"
   ]
  },
  {
   "cell_type": "code",
   "execution_count": 5,
   "id": "f6c5cc98",
   "metadata": {},
   "outputs": [
    {
     "ename": "NameError",
     "evalue": "name 'nlp' is not defined",
     "output_type": "error",
     "traceback": [
      "\u001b[1;31m---------------------------------------------------------------------------\u001b[0m",
      "\u001b[1;31mNameError\u001b[0m                                 Traceback (most recent call last)",
      "\u001b[1;32m<ipython-input-5-0213d40c81e3>\u001b[0m in \u001b[0;36m<module>\u001b[1;34m\u001b[0m\n\u001b[1;32m----> 1\u001b[1;33m \u001b[0mdoc\u001b[0m \u001b[1;33m=\u001b[0m \u001b[0mnlp\u001b[0m\u001b[1;33m(\u001b[0m\u001b[0mtext\u001b[0m\u001b[1;33m)\u001b[0m\u001b[1;33m\u001b[0m\u001b[1;33m\u001b[0m\u001b[0m\n\u001b[0m",
      "\u001b[1;31mNameError\u001b[0m: name 'nlp' is not defined"
     ]
    }
   ],
   "source": [
    "doc = nlp(text)"
   ]
  },
  {
   "cell_type": "markdown",
   "id": "2d001ab7",
   "metadata": {},
   "source": [
    "NER auf dem Doc Objekt:"
   ]
  },
  {
   "cell_type": "code",
   "execution_count": null,
   "id": "b678721a",
   "metadata": {},
   "outputs": [],
   "source": [
    "for ent in doc.ents:\n",
    "    print (ent.text, ent.label_)"
   ]
  },
  {
   "cell_type": "markdown",
   "id": "98a678ba",
   "metadata": {},
   "source": [
    "Im Hintergrund läuft dabei eine Spacy-Pipeline; NER ist nur ein (kleiner) Teil dieser \"pipe\"."
   ]
  },
  {
   "cell_type": "code",
   "execution_count": null,
   "id": "479e8350",
   "metadata": {},
   "outputs": [],
   "source": [
    "nlp.analyze_pipes()"
   ]
  },
  {
   "cell_type": "markdown",
   "id": "01904ad8",
   "metadata": {},
   "source": [
    "Noch einmal auf Deutsch:"
   ]
  },
  {
   "cell_type": "code",
   "execution_count": null,
   "id": "da1358b5",
   "metadata": {},
   "outputs": [],
   "source": [
    "text = \"Berlin ist eine Stadt in Deutschland. Die Staatsbibliothek zu Berlin ist die Nationalbibliothek eines Staates, den es nicht mehr gibt (Preußen)\""
   ]
  },
  {
   "cell_type": "code",
   "execution_count": null,
   "id": "d0689282",
   "metadata": {},
   "outputs": [],
   "source": [
    "doc = nlp(text)"
   ]
  },
  {
   "cell_type": "code",
   "execution_count": null,
   "id": "e4f82885",
   "metadata": {},
   "outputs": [],
   "source": [
    "for ent in doc.ents:\n",
    "    print (ent.text, ent.label_)"
   ]
  },
  {
   "cell_type": "code",
   "execution_count": null,
   "id": "d430c700",
   "metadata": {},
   "outputs": [],
   "source": [
    "nlp = spacy.load(\"de_core_news_sm\")"
   ]
  },
  {
   "cell_type": "code",
   "execution_count": null,
   "id": "62ffebd4",
   "metadata": {},
   "outputs": [],
   "source": [
    "doc = nlp(text)"
   ]
  },
  {
   "cell_type": "code",
   "execution_count": null,
   "id": "1e944e0f",
   "metadata": {},
   "outputs": [],
   "source": [
    "for ent in doc.ents:\n",
    "    print (ent.text, ent.label_)"
   ]
  },
  {
   "cell_type": "code",
   "execution_count": null,
   "id": "f6ea5b24",
   "metadata": {},
   "outputs": [],
   "source": [
    "#Eine regelbasierte Entity hinzufügen\n",
    "ruler = nlp.add_pipe(\"entity_ruler\", before=\"ner\")\n",
    "\n",
    "#Liste von Entities und Patterns\n",
    "patterns = [\n",
    "                {\"label\": \"CITY\", \"pattern\": \"Berlin\"},{\"label\": \"ORG\", \"pattern\": \"Staatsbibliothek zu Berlin\"}\n",
    "            ]\n",
    "\n",
    "ruler.add_patterns(patterns)"
   ]
  },
  {
   "cell_type": "code",
   "execution_count": null,
   "id": "b5c614e7",
   "metadata": {},
   "outputs": [],
   "source": [
    "doc = nlp(text)\n",
    "\n",
    "# entities\n",
    "for ent in doc.ents:\n",
    "    print (ent.text, ent.label_)"
   ]
  },
  {
   "cell_type": "markdown",
   "id": "e5b1092a",
   "metadata": {},
   "source": [
    "### Visualisieren"
   ]
  },
  {
   "cell_type": "code",
   "execution_count": null,
   "id": "7d108f01",
   "metadata": {},
   "outputs": [],
   "source": [
    "from spacy import displacy"
   ]
  },
  {
   "cell_type": "code",
   "execution_count": null,
   "id": "83ec9390",
   "metadata": {},
   "outputs": [],
   "source": [
    "displacy.render(doc, style='ent', jupyter='true')"
   ]
  },
  {
   "cell_type": "markdown",
   "id": "1412a290",
   "metadata": {},
   "source": [
    "## Ein Modell mit spaCy trainieren"
   ]
  },
  {
   "cell_type": "markdown",
   "id": "d0d61d7d",
   "metadata": {},
   "source": [
    "Trainingsdaten für spaCy NER müssen im folgenden Format stehen\n",
    "\n",
    "TRAIN_DATA = [ (TEXT AS A STRING, {“entities”: [(START, END, LABEL)]}) ]\n",
    "\n",
    "ACHTUNG: Startindizes beginnen mit \"0\", nicht mit \"1\""
   ]
  },
  {
   "cell_type": "code",
   "execution_count": null,
   "id": "4e6c5eaa",
   "metadata": {},
   "outputs": [],
   "source": [
    "for ent in doc.ents:\n",
    "    print (ent.text, ent.start_char, ent.end_char, ent.label_)"
   ]
  },
  {
   "cell_type": "code",
   "execution_count": null,
   "id": "fa1c4d6f",
   "metadata": {},
   "outputs": [],
   "source": [
    "corpus = []\n",
    "\n",
    "doc = nlp(text)\n",
    "for sent in doc.sents:\n",
    "    corpus.append(sent.text)\n",
    "\n",
    "#Build upon the spaCy Small Model\n",
    "nlp = spacy.blank(\"de\")\n",
    "\n",
    "#Create the EntityRuler\n",
    "ruler = nlp.add_pipe(\"entity_ruler\")\n",
    "\n",
    "#List of Entities and Patterns\n",
    "patterns = [\n",
    "                {\"label\": \"GPE\", \"pattern\": \"Treblinka\"}\n",
    "            ]\n",
    "\n",
    "ruler.add_patterns(patterns)\n",
    "\n",
    "\n",
    "TRAIN_DATA = []\n",
    "\n",
    "#iterate over the corpus again\n",
    "for sentence in corpus:\n",
    "    doc = nlp(sentence)\n",
    "    \n",
    "    #remember, entities needs to be a dictionary in index 1 of the list, so it needs to be an empty list\n",
    "    entities = []\n",
    "    \n",
    "    #extract entities\n",
    "    for ent in doc.ents:\n",
    "\n",
    "        #appending to entities in the correct format\n",
    "        entities.append([ent.start_char, ent.end_char, ent.label_])\n",
    "        \n",
    "    TRAIN_DATA.append([sentence, {\"entities\": entities}])\n",
    "\n",
    "print (TRAIN_DATA)"
   ]
  }
 ],
 "metadata": {
  "kernelspec": {
   "display_name": "Python 3",
   "language": "python",
   "name": "python3"
  },
  "language_info": {
   "codemirror_mode": {
    "name": "ipython",
    "version": 3
   },
   "file_extension": ".py",
   "mimetype": "text/x-python",
   "name": "python",
   "nbconvert_exporter": "python",
   "pygments_lexer": "ipython3",
   "version": "3.8.8"
  }
 },
 "nbformat": 4,
 "nbformat_minor": 5
}
